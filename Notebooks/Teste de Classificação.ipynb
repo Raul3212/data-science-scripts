{
 "cells": [
  {
   "cell_type": "code",
   "execution_count": 1,
   "metadata": {},
   "outputs": [],
   "source": [
    "import pandas as pd\n",
    "import numpy as np\n",
    "import seaborn as sns\n",
    "import re\n",
    "import nltk\n",
    "import matplotlib.pyplot as plt\n",
    "from bs4 import BeautifulSoup\n",
    "from sklearn.feature_extraction.text import CountVectorizer\n",
    "from sklearn.feature_extraction.text import TfidfTransformer\n",
    "from sklearn.naive_bayes import *\n",
    "from sklearn.model_selection import cross_val_predict\n",
    "from sklearn.model_selection import train_test_split\n",
    "from sklearn.metrics import precision_recall_fscore_support\n",
    "from sklearn.ensemble import RandomForestClassifier\n",
    "from sklearn.svm import *\n",
    "import sklearn.metrics as skm"
   ]
  },
  {
   "cell_type": "markdown",
   "metadata": {},
   "source": [
    "# A Classification Test of Sentiment of Tweets About Braziliam Presidential Elections"
   ]
  },
  {
   "cell_type": "markdown",
   "metadata": {},
   "source": [
    "### Importing Data"
   ]
  },
  {
   "cell_type": "code",
   "execution_count": 2,
   "metadata": {},
   "outputs": [],
   "source": [
    "data = pd.read_csv('../Data/dataset2018.tsv', header=0, delimiter='\\t')"
   ]
  },
  {
   "cell_type": "code",
   "execution_count": 3,
   "metadata": {
    "scrolled": false
   },
   "outputs": [
    {
     "data": {
      "text/html": [
       "<div>\n",
       "<style scoped>\n",
       "    .dataframe tbody tr th:only-of-type {\n",
       "        vertical-align: middle;\n",
       "    }\n",
       "\n",
       "    .dataframe tbody tr th {\n",
       "        vertical-align: top;\n",
       "    }\n",
       "\n",
       "    .dataframe thead th {\n",
       "        text-align: right;\n",
       "    }\n",
       "</style>\n",
       "<table border=\"1\" class=\"dataframe\">\n",
       "  <thead>\n",
       "    <tr style=\"text-align: right;\">\n",
       "      <th></th>\n",
       "      <th>id</th>\n",
       "      <th>tweet</th>\n",
       "      <th>candidato</th>\n",
       "      <th>marcador</th>\n",
       "      <th>classe</th>\n",
       "    </tr>\n",
       "  </thead>\n",
       "  <tbody>\n",
       "    <tr>\n",
       "      <th>0</th>\n",
       "      <td>twe977318071722442752</td>\n",
       "      <td>@jangodurango \"Se eu soubesse que tu queria nã...</td>\n",
       "      <td>lula</td>\n",
       "      <td>alysson</td>\n",
       "      <td>Não sei</td>\n",
       "    </tr>\n",
       "    <tr>\n",
       "      <th>1</th>\n",
       "      <td>twe978104151359008769</td>\n",
       "      <td>Retweeted Florisvaldo Raimundo (@Florisrs):  S...</td>\n",
       "      <td>lula</td>\n",
       "      <td>alysson</td>\n",
       "      <td>Não sei</td>\n",
       "    </tr>\n",
       "    <tr>\n",
       "      <th>2</th>\n",
       "      <td>twe984802485360582656</td>\n",
       "      <td>Ao invés dos petistas estarem buscando livrar ...</td>\n",
       "      <td>alckmin</td>\n",
       "      <td>alysson</td>\n",
       "      <td>Rejeição</td>\n",
       "    </tr>\n",
       "    <tr>\n",
       "      <th>3</th>\n",
       "      <td>twe977572021361168389</td>\n",
       "      <td>@CshmKnCaioHen @Peaotrabalhador @MiguelAMSA61 ...</td>\n",
       "      <td>manuela</td>\n",
       "      <td>alysson</td>\n",
       "      <td>Neutro</td>\n",
       "    </tr>\n",
       "    <tr>\n",
       "      <th>4</th>\n",
       "      <td>twe977558211447443457</td>\n",
       "      <td>A pergunta é séria, @manudeputada: quer me pag...</td>\n",
       "      <td>manuela</td>\n",
       "      <td>alysson</td>\n",
       "      <td>Rejeição</td>\n",
       "    </tr>\n",
       "    <tr>\n",
       "      <th>5</th>\n",
       "      <td>twe977347407011897345</td>\n",
       "      <td>DISPARADO!!! 90%... https://t.co/f5G9063duC</td>\n",
       "      <td>bolsonaro</td>\n",
       "      <td>alysson</td>\n",
       "      <td>Neutro</td>\n",
       "    </tr>\n",
       "    <tr>\n",
       "      <th>6</th>\n",
       "      <td>twe984494027956543488</td>\n",
       "      <td>O que acontece agora que o inquérito de Alckmi...</td>\n",
       "      <td>alckmin</td>\n",
       "      <td>alysson</td>\n",
       "      <td>Neutro</td>\n",
       "    </tr>\n",
       "    <tr>\n",
       "      <th>7</th>\n",
       "      <td>twe981677295676084224</td>\n",
       "      <td>- \"aécio é flagrado pedindo grana a empresário...</td>\n",
       "      <td>temer</td>\n",
       "      <td>alysson</td>\n",
       "      <td>Rejeição</td>\n",
       "    </tr>\n",
       "    <tr>\n",
       "      <th>8</th>\n",
       "      <td>twe978200570740822017</td>\n",
       "      <td>Se a bunda de algum ministro sentar sobre o pr...</td>\n",
       "      <td>lula</td>\n",
       "      <td>alysson</td>\n",
       "      <td>Rejeição</td>\n",
       "    </tr>\n",
       "    <tr>\n",
       "      <th>9</th>\n",
       "      <td>twe982682347484180482</td>\n",
       "      <td>Hoje, não há lado certo ou lado errado. Lula é...</td>\n",
       "      <td>temer</td>\n",
       "      <td>alysson</td>\n",
       "      <td>Neutro</td>\n",
       "    </tr>\n",
       "  </tbody>\n",
       "</table>\n",
       "</div>"
      ],
      "text/plain": [
       "                      id                                              tweet  \\\n",
       "0  twe977318071722442752  @jangodurango \"Se eu soubesse que tu queria nã...   \n",
       "1  twe978104151359008769  Retweeted Florisvaldo Raimundo (@Florisrs):  S...   \n",
       "2  twe984802485360582656  Ao invés dos petistas estarem buscando livrar ...   \n",
       "3  twe977572021361168389  @CshmKnCaioHen @Peaotrabalhador @MiguelAMSA61 ...   \n",
       "4  twe977558211447443457  A pergunta é séria, @manudeputada: quer me pag...   \n",
       "5  twe977347407011897345        DISPARADO!!! 90%... https://t.co/f5G9063duC   \n",
       "6  twe984494027956543488  O que acontece agora que o inquérito de Alckmi...   \n",
       "7  twe981677295676084224  - \"aécio é flagrado pedindo grana a empresário...   \n",
       "8  twe978200570740822017  Se a bunda de algum ministro sentar sobre o pr...   \n",
       "9  twe982682347484180482  Hoje, não há lado certo ou lado errado. Lula é...   \n",
       "\n",
       "   candidato marcador    classe  \n",
       "0       lula  alysson   Não sei  \n",
       "1       lula  alysson   Não sei  \n",
       "2    alckmin  alysson  Rejeição  \n",
       "3    manuela  alysson    Neutro  \n",
       "4    manuela  alysson  Rejeição  \n",
       "5  bolsonaro  alysson    Neutro  \n",
       "6    alckmin  alysson    Neutro  \n",
       "7      temer  alysson  Rejeição  \n",
       "8       lula  alysson  Rejeição  \n",
       "9      temer  alysson    Neutro  "
      ]
     },
     "execution_count": 3,
     "metadata": {},
     "output_type": "execute_result"
    }
   ],
   "source": [
    "data.head(10)"
   ]
  },
  {
   "cell_type": "code",
   "execution_count": 4,
   "metadata": {},
   "outputs": [],
   "source": [
    "data = data[data['classe'] != 'Não sei']\n",
    "data['classe'][data['classe'] == 'Rejeição'] = 2\n",
    "data['classe'][data['classe'] == 'Neutro'] = 0\n",
    "data['classe'][data['classe'] == 'Aprovação'] = 1\n",
    "data = data.dropna()\n",
    "data['classe'] = data['classe'].astype('int64')"
   ]
  },
  {
   "cell_type": "code",
   "execution_count": 5,
   "metadata": {},
   "outputs": [],
   "source": [
    "candidate_name = 'bolsonaro'"
   ]
  },
  {
   "cell_type": "markdown",
   "metadata": {},
   "source": [
    "### Counting the number of tweets for each candidate"
   ]
  },
  {
   "cell_type": "code",
   "execution_count": 6,
   "metadata": {},
   "outputs": [],
   "source": [
    "def count_tweets_per_candidate(data):\n",
    "    counteds = set()\n",
    "    counter_map = {}\n",
    "    for i in range(len(data['candidato'])):\n",
    "        if data['candidato'].iloc[i] not in counteds:\n",
    "            candidate_name = data['candidato'].iloc[i]\n",
    "            counter_map[candidate_name] = len(data[data['candidato'] == candidate_name])\n",
    "            counteds.add(candidate_name)\n",
    "    return counter_map"
   ]
  },
  {
   "cell_type": "code",
   "execution_count": 7,
   "metadata": {},
   "outputs": [],
   "source": [
    "counter_map = count_tweets_per_candidate(data)"
   ]
  },
  {
   "cell_type": "code",
   "execution_count": 8,
   "metadata": {},
   "outputs": [
    {
     "data": {
      "text/plain": [
       "{'alckmin': 158,\n",
       " 'bolsonaro': 137,\n",
       " 'ciro': 130,\n",
       " 'lula': 133,\n",
       " 'manuela': 156,\n",
       " 'marina': 163,\n",
       " 'temer': 128}"
      ]
     },
     "execution_count": 8,
     "metadata": {},
     "output_type": "execute_result"
    }
   ],
   "source": [
    "counter_map"
   ]
  },
  {
   "cell_type": "code",
   "execution_count": 9,
   "metadata": {
    "scrolled": true
   },
   "outputs": [
    {
     "data": {
      "image/png": "[encoded data removed]",
      "text/plain": [
       "<matplotlib.figure.Figure at 0x7f5c05f593c8>"
      ]
     },
     "metadata": {},
     "output_type": "display_data"
    }
   ],
   "source": [
    "xLabels = list(counter_map.keys())\n",
    "yValues = np.array(list(counter_map.values()))\n",
    "\n",
    "fig, ax = plt.subplots()\n",
    "plt.bar(xLabels, yValues)\n",
    "\n",
    "plt.show()"
   ]
  },
  {
   "cell_type": "code",
   "execution_count": 10,
   "metadata": {},
   "outputs": [
    {
     "data": {
      "image/png": "[encoded data removed]",
      "text/plain": [
       "<matplotlib.figure.Figure at 0x7f5c05ecaf60>"
      ]
     },
     "metadata": {},
     "output_type": "display_data"
    }
   ],
   "source": [
    "xLabels = list(data['classe'].value_counts().keys())\n",
    "yValues = list(data['classe'].value_counts())\n",
    "fig, ax = plt.subplots()\n",
    "plt.bar(xLabels, yValues)\n",
    "plt.show()"
   ]
  },
  {
   "cell_type": "markdown",
   "metadata": {},
   "source": [
    "### Pre-processing tweets"
   ]
  },
  {
   "cell_type": "code",
   "execution_count": 11,
   "metadata": {},
   "outputs": [],
   "source": [
    "def tweet2wordlist(tweet):\n",
    "    tweet = BeautifulSoup(tweet, 'lxml').get_text()\n",
    "    tweet = tweet.lower()\n",
    "    tweet = re.sub('[^a-zA-Z]', ' ', tweet)\n",
    "    stops = set(nltk.corpus.stopwords.words('portuguese'))\n",
    "    words = nltk.word_tokenize(tweet.lower().strip())\n",
    "    stemmer = nltk.stem.RSLPStemmer()\n",
    "    word_list = [stemmer.stem(word) for word in words if word not in stops]\n",
    "    return ' '.join(word_list)\n",
    "    "
   ]
  },
  {
   "cell_type": "code",
   "execution_count": 12,
   "metadata": {},
   "outputs": [],
   "source": [
    "def pre_processing(data):\n",
    "    word_lists = []\n",
    "    for tweet in data['tweet']:\n",
    "        word_list = tweet2wordlist(tweet)\n",
    "        if word_list != []:\n",
    "            word_lists.append(word_list)\n",
    "    return word_lists"
   ]
  },
  {
   "cell_type": "code",
   "execution_count": 13,
   "metadata": {
    "scrolled": true
   },
   "outputs": [
    {
     "name": "stderr",
     "output_type": "stream",
     "text": [
      "/home/raul/anaconda3/lib/python3.6/site-packages/bs4/__init__.py:282: UserWarning: \"https://t.co/xK5tGzIwWb\" looks like a URL. Beautiful Soup is not an HTTP client. You should probably use an HTTP client like requests to get the document behind the URL, and feed that document to Beautiful Soup.\n",
      "  ' that document to Beautiful Soup.' % decoded_markup\n"
     ]
    }
   ],
   "source": [
    "vectorizer = CountVectorizer(analyzer='word', preprocessor=None, stop_words=None)\n",
    "tfidf = TfidfTransformer()\n",
    "train_candidate = vectorizer.fit_transform(pre_processing(data)).toarray()\n",
    "features_tfidf = tfidf.fit_transform(train_candidate).toarray()\n",
    "#train_candidate = features_tfidf"
   ]
  },
  {
   "cell_type": "code",
   "execution_count": 14,
   "metadata": {},
   "outputs": [
    {
     "data": {
      "text/plain": [
       "(array([0.45789474, 0.20731707, 0.72442019]),\n",
       " array([0.39545455, 0.11409396, 0.83490566]),\n",
       " array([0.42439024, 0.14718615, 0.77574872]),\n",
       " array([220, 149, 636]))"
      ]
     },
     "execution_count": 14,
     "metadata": {},
     "output_type": "execute_result"
    }
   ],
   "source": [
    "y_pred = cross_val_predict(MultinomialNB(), train_candidate, data['classe'], cv=2)\n",
    "precision_recall_fscore_support(y_pred=y_pred, y_true=data['classe'])"
   ]
  },
  {
   "cell_type": "code",
   "execution_count": 15,
   "metadata": {},
   "outputs": [
    {
     "data": {
      "text/plain": [
       "(array([0.63888889, 0.4       , 0.65041494]),\n",
       " array([0.10454545, 0.01342282, 0.98584906]),\n",
       " array([0.1796875 , 0.02597403, 0.78375   ]),\n",
       " array([220, 149, 636]))"
      ]
     },
     "execution_count": 15,
     "metadata": {},
     "output_type": "execute_result"
    }
   ],
   "source": [
    "y_pred = cross_val_predict(BernoulliNB(), train_candidate, data['classe'], cv=2)\n",
    "precision_recall_fscore_support(y_pred=y_pred, y_true=data['classe'])"
   ]
  },
  {
   "cell_type": "code",
   "execution_count": 16,
   "metadata": {},
   "outputs": [
    {
     "data": {
      "text/plain": [
       "(array([0.44117647, 0.23170732, 0.71631206]),\n",
       " array([0.27272727, 0.25503356, 0.79402516]),\n",
       " array([0.33707865, 0.2428115 , 0.75316928]),\n",
       " array([220, 149, 636]))"
      ]
     },
     "execution_count": 16,
     "metadata": {},
     "output_type": "execute_result"
    }
   ],
   "source": [
    "y_pred = cross_val_predict(GaussianNB(), train_candidate, data['classe'], cv=2)\n",
    "precision_recall_fscore_support(y_pred=y_pred, y_true=data['classe'])"
   ]
  },
  {
   "cell_type": "code",
   "execution_count": 17,
   "metadata": {},
   "outputs": [
    {
     "data": {
      "text/plain": [
       "(array([0.47008547, 0.44642857, 0.69951923]),\n",
       " array([0.25      , 0.16778523, 0.91509434]),\n",
       " array([0.3264095 , 0.24390244, 0.79291553]),\n",
       " array([220, 149, 636]))"
      ]
     },
     "execution_count": 17,
     "metadata": {},
     "output_type": "execute_result"
    }
   ],
   "source": [
    "y_pred = cross_val_predict(RandomForestClassifier(), train_candidate, data['classe'], cv=2)\n",
    "precision_recall_fscore_support(y_pred=y_pred, y_true=data['classe'])"
   ]
  },
  {
   "cell_type": "code",
   "execution_count": 18,
   "metadata": {},
   "outputs": [
    {
     "data": {
      "text/plain": [
       "(array([0.40609137, 0.30578512, 0.74090247]),\n",
       " array([0.36363636, 0.24832215, 0.80031447]),\n",
       " array([0.38369305, 0.27407407, 0.76946334]),\n",
       " array([220, 149, 636]))"
      ]
     },
     "execution_count": 18,
     "metadata": {},
     "output_type": "execute_result"
    }
   ],
   "source": [
    "y_pred = cross_val_predict(LinearSVC(), train_candidate, data['classe'], cv=2)\n",
    "precision_recall_fscore_support(y_pred=y_pred, y_true=data['classe'])"
   ]
  },
  {
   "cell_type": "code",
   "execution_count": null,
   "metadata": {},
   "outputs": [],
   "source": []
  }
 ],
 "metadata": {
  "kernelspec": {
   "display_name": "Python 3",
   "language": "python",
   "name": "python3"
  },
  "language_info": {
   "codemirror_mode": {
    "name": "ipython",
    "version": 3
   },
   "file_extension": ".py",
   "mimetype": "text/x-python",
   "name": "python",
   "nbconvert_exporter": "python",
   "pygments_lexer": "ipython3",
   "version": "3.6.4"
  }
 },
 "nbformat": 4,
 "nbformat_minor": 2
}
