{
 "cells": [
  {
   "cell_type": "code",
   "execution_count": 317,
   "metadata": {},
   "outputs": [],
   "source": [
    "import pandas as pd\n",
    "import numpy as np\n",
    "import seaborn as sns\n",
    "import re\n",
    "import nltk\n",
    "import matplotlib.pyplot as plt\n",
    "from bs4 import BeautifulSoup\n",
    "from sklearn.feature_extraction.text import CountVectorizer\n",
    "from sklearn.feature_extraction.text import TfidfTransformer\n",
    "from sklearn.naive_bayes import *\n",
    "from sklearn.model_selection import cross_val_predict\n",
    "from sklearn.model_selection import train_test_split\n",
    "import sklearn.metrics as skm"
   ]
  },
  {
   "cell_type": "markdown",
   "metadata": {},
   "source": [
    "# A Classification Test of Sentiment of Tweets About Braziliam Presidential Elections"
   ]
  },
  {
   "cell_type": "markdown",
   "metadata": {},
   "source": [
    "### Importing Data"
   ]
  },
  {
   "cell_type": "code",
   "execution_count": 318,
   "metadata": {},
   "outputs": [],
   "source": [
    "data = pd.read_csv('../Dados_teste/dataset.tsv', header=0, delimiter='\\t')"
   ]
  },
  {
   "cell_type": "code",
   "execution_count": 319,
   "metadata": {
    "scrolled": false
   },
   "outputs": [
    {
     "data": {
      "text/html": [
       "<div>\n",
       "<style scoped>\n",
       "    .dataframe tbody tr th:only-of-type {\n",
       "        vertical-align: middle;\n",
       "    }\n",
       "\n",
       "    .dataframe tbody tr th {\n",
       "        vertical-align: top;\n",
       "    }\n",
       "\n",
       "    .dataframe thead th {\n",
       "        text-align: right;\n",
       "    }\n",
       "</style>\n",
       "<table border=\"1\" class=\"dataframe\">\n",
       "  <thead>\n",
       "    <tr style=\"text-align: right;\">\n",
       "      <th></th>\n",
       "      <th>id</th>\n",
       "      <th>tweet</th>\n",
       "      <th>candidato</th>\n",
       "      <th>marcador</th>\n",
       "      <th>classe</th>\n",
       "    </tr>\n",
       "  </thead>\n",
       "  <tbody>\n",
       "    <tr>\n",
       "      <th>0</th>\n",
       "      <td>twe977318071722442752</td>\n",
       "      <td>@jangodurango \"Se eu soubesse que tu queria nã...</td>\n",
       "      <td>lula</td>\n",
       "      <td>alysson</td>\n",
       "      <td>Não sei</td>\n",
       "    </tr>\n",
       "    <tr>\n",
       "      <th>1</th>\n",
       "      <td>twe978104151359008769</td>\n",
       "      <td>Retweeted Florisvaldo Raimundo (@Florisrs):  S...</td>\n",
       "      <td>lula</td>\n",
       "      <td>alysson</td>\n",
       "      <td>Não sei</td>\n",
       "    </tr>\n",
       "    <tr>\n",
       "      <th>2</th>\n",
       "      <td>twe984802485360582656</td>\n",
       "      <td>Ao invés dos petistas estarem buscando livrar ...</td>\n",
       "      <td>alckmin</td>\n",
       "      <td>alysson</td>\n",
       "      <td>Rejeição</td>\n",
       "    </tr>\n",
       "    <tr>\n",
       "      <th>3</th>\n",
       "      <td>twe977572021361168389</td>\n",
       "      <td>@CshmKnCaioHen @Peaotrabalhador @MiguelAMSA61 ...</td>\n",
       "      <td>manuela</td>\n",
       "      <td>alysson</td>\n",
       "      <td>Neutro</td>\n",
       "    </tr>\n",
       "    <tr>\n",
       "      <th>4</th>\n",
       "      <td>twe977558211447443457</td>\n",
       "      <td>A pergunta é séria, @manudeputada: quer me pag...</td>\n",
       "      <td>manuela</td>\n",
       "      <td>alysson</td>\n",
       "      <td>Rejeição</td>\n",
       "    </tr>\n",
       "    <tr>\n",
       "      <th>5</th>\n",
       "      <td>twe977347407011897345</td>\n",
       "      <td>DISPARADO!!! 90%... https://t.co/f5G9063duC</td>\n",
       "      <td>bolsonaro</td>\n",
       "      <td>alysson</td>\n",
       "      <td>Neutro</td>\n",
       "    </tr>\n",
       "    <tr>\n",
       "      <th>6</th>\n",
       "      <td>twe984494027956543488</td>\n",
       "      <td>O que acontece agora que o inquérito de Alckmi...</td>\n",
       "      <td>alckmin</td>\n",
       "      <td>alysson</td>\n",
       "      <td>Neutro</td>\n",
       "    </tr>\n",
       "    <tr>\n",
       "      <th>7</th>\n",
       "      <td>twe981677295676084224</td>\n",
       "      <td>- \"aécio é flagrado pedindo grana a empresário...</td>\n",
       "      <td>temer</td>\n",
       "      <td>alysson</td>\n",
       "      <td>Rejeição</td>\n",
       "    </tr>\n",
       "    <tr>\n",
       "      <th>8</th>\n",
       "      <td>twe978200570740822017</td>\n",
       "      <td>Se a bunda de algum ministro sentar sobre o pr...</td>\n",
       "      <td>lula</td>\n",
       "      <td>alysson</td>\n",
       "      <td>Rejeição</td>\n",
       "    </tr>\n",
       "    <tr>\n",
       "      <th>9</th>\n",
       "      <td>twe982682347484180482</td>\n",
       "      <td>Hoje, não há lado certo ou lado errado. Lula é...</td>\n",
       "      <td>temer</td>\n",
       "      <td>alysson</td>\n",
       "      <td>Neutro</td>\n",
       "    </tr>\n",
       "  </tbody>\n",
       "</table>\n",
       "</div>"
      ],
      "text/plain": [
       "                      id                                              tweet  \\\n",
       "0  twe977318071722442752  @jangodurango \"Se eu soubesse que tu queria nã...   \n",
       "1  twe978104151359008769  Retweeted Florisvaldo Raimundo (@Florisrs):  S...   \n",
       "2  twe984802485360582656  Ao invés dos petistas estarem buscando livrar ...   \n",
       "3  twe977572021361168389  @CshmKnCaioHen @Peaotrabalhador @MiguelAMSA61 ...   \n",
       "4  twe977558211447443457  A pergunta é séria, @manudeputada: quer me pag...   \n",
       "5  twe977347407011897345        DISPARADO!!! 90%... https://t.co/f5G9063duC   \n",
       "6  twe984494027956543488  O que acontece agora que o inquérito de Alckmi...   \n",
       "7  twe981677295676084224  - \"aécio é flagrado pedindo grana a empresário...   \n",
       "8  twe978200570740822017  Se a bunda de algum ministro sentar sobre o pr...   \n",
       "9  twe982682347484180482  Hoje, não há lado certo ou lado errado. Lula é...   \n",
       "\n",
       "   candidato marcador    classe  \n",
       "0       lula  alysson   Não sei  \n",
       "1       lula  alysson   Não sei  \n",
       "2    alckmin  alysson  Rejeição  \n",
       "3    manuela  alysson    Neutro  \n",
       "4    manuela  alysson  Rejeição  \n",
       "5  bolsonaro  alysson    Neutro  \n",
       "6    alckmin  alysson    Neutro  \n",
       "7      temer  alysson  Rejeição  \n",
       "8       lula  alysson  Rejeição  \n",
       "9      temer  alysson    Neutro  "
      ]
     },
     "execution_count": 319,
     "metadata": {},
     "output_type": "execute_result"
    }
   ],
   "source": [
    "data.head(10)"
   ]
  },
  {
   "cell_type": "code",
   "execution_count": 320,
   "metadata": {},
   "outputs": [],
   "source": [
    "data = data[data['classe'] != 'Não sei']\n",
    "data['classe'][data['classe'] == 'Rejeição'] = -1\n",
    "data['classe'][data['classe'] == 'Neutro'] = 0\n",
    "data['classe'][data['classe'] == 'Aprovação'] = 1\n",
    "data = data.dropna()\n",
    "data['classe'] = data['classe'].astype('int64')"
   ]
  },
  {
   "cell_type": "code",
   "execution_count": 321,
   "metadata": {},
   "outputs": [],
   "source": [
    "candidate_name = 'temer'"
   ]
  },
  {
   "cell_type": "markdown",
   "metadata": {},
   "source": [
    "### Counting the number of tweets for each candidate"
   ]
  },
  {
   "cell_type": "code",
   "execution_count": 322,
   "metadata": {},
   "outputs": [],
   "source": [
    "def count_tweets_per_candidate(data):\n",
    "    counteds = set()\n",
    "    counter_map = {}\n",
    "    for i in range(len(data['candidato'])):\n",
    "        if data['candidato'].iloc[i] not in counteds:\n",
    "            candidate_name = data['candidato'].iloc[i]\n",
    "            counter_map[candidate_name] = len(data[data['candidato'] == candidate_name])\n",
    "            counteds.add(candidate_name)\n",
    "    return counter_map"
   ]
  },
  {
   "cell_type": "code",
   "execution_count": 323,
   "metadata": {},
   "outputs": [],
   "source": [
    "counter_map = count_tweets_per_candidate(data)"
   ]
  },
  {
   "cell_type": "code",
   "execution_count": 324,
   "metadata": {},
   "outputs": [
    {
     "data": {
      "text/plain": [
       "{'alckmin': 158,\n",
       " 'bolsonaro': 137,\n",
       " 'ciro': 130,\n",
       " 'lula': 133,\n",
       " 'manuela': 156,\n",
       " 'marina': 163,\n",
       " 'temer': 128}"
      ]
     },
     "execution_count": 324,
     "metadata": {},
     "output_type": "execute_result"
    }
   ],
   "source": [
    "counter_map"
   ]
  },
  {
   "cell_type": "code",
   "execution_count": 325,
   "metadata": {
    "scrolled": true
   },
   "outputs": [
    {
     "data": {
      "image/png": "[encoded data removed]",
      "text/plain": [
       "<matplotlib.figure.Figure at 0x208f56f2ba8>"
      ]
     },
     "metadata": {},
     "output_type": "display_data"
    }
   ],
   "source": [
    "xLabels = list(counter_map.keys())\n",
    "yValues = np.array(list(counter_map.values()))\n",
    "\n",
    "fig, ax = plt.subplots()\n",
    "plt.bar(xLabels, yValues)\n",
    "\n",
    "plt.show()"
   ]
  },
  {
   "cell_type": "code",
   "execution_count": 346,
   "metadata": {},
   "outputs": [
    {
     "ename": "RuntimeError",
     "evalue": "matplotlib does not support generators as input",
     "output_type": "error",
     "traceback": [
      "\u001b[1;31m---------------------------------------------------------------------------\u001b[0m",
      "\u001b[1;31mAttributeError\u001b[0m                            Traceback (most recent call last)",
      "\u001b[1;32m~\\Anaconda3\\lib\\site-packages\\matplotlib\\units.py\u001b[0m in \u001b[0;36mget_converter\u001b[1;34m(self, x)\u001b[0m\n\u001b[0;32m    143\u001b[0m                 \u001b[1;31m# get_converter\u001b[0m\u001b[1;33m\u001b[0m\u001b[1;33m\u001b[0m\u001b[0m\n\u001b[1;32m--> 144\u001b[1;33m                 \u001b[1;32mif\u001b[0m \u001b[1;32mnot\u001b[0m \u001b[0mnp\u001b[0m\u001b[1;33m.\u001b[0m\u001b[0mall\u001b[0m\u001b[1;33m(\u001b[0m\u001b[0mxravel\u001b[0m\u001b[1;33m.\u001b[0m\u001b[0mmask\u001b[0m\u001b[1;33m)\u001b[0m\u001b[1;33m:\u001b[0m\u001b[1;33m\u001b[0m\u001b[0m\n\u001b[0m\u001b[0;32m    145\u001b[0m                     \u001b[1;31m# some elements are not masked\u001b[0m\u001b[1;33m\u001b[0m\u001b[1;33m\u001b[0m\u001b[0m\n",
      "\u001b[1;31mAttributeError\u001b[0m: 'numpy.ndarray' object has no attribute 'mask'",
      "\nDuring handling of the above exception, another exception occurred:\n",
      "\u001b[1;31mRuntimeError\u001b[0m                              Traceback (most recent call last)",
      "\u001b[1;32m<ipython-input-346-b680fff02f19>\u001b[0m in \u001b[0;36m<module>\u001b[1;34m()\u001b[0m\n\u001b[0;32m      3\u001b[0m \u001b[1;33m\u001b[0m\u001b[0m\n\u001b[0;32m      4\u001b[0m \u001b[0mfig\u001b[0m\u001b[1;33m,\u001b[0m \u001b[0max\u001b[0m \u001b[1;33m=\u001b[0m \u001b[0mplt\u001b[0m\u001b[1;33m.\u001b[0m\u001b[0msubplots\u001b[0m\u001b[1;33m(\u001b[0m\u001b[1;33m)\u001b[0m\u001b[1;33m\u001b[0m\u001b[0m\n\u001b[1;32m----> 5\u001b[1;33m \u001b[0mplt\u001b[0m\u001b[1;33m.\u001b[0m\u001b[0mbar\u001b[0m\u001b[1;33m(\u001b[0m\u001b[0mxLabels\u001b[0m\u001b[1;33m,\u001b[0m \u001b[0myValues\u001b[0m\u001b[1;33m)\u001b[0m\u001b[1;33m\u001b[0m\u001b[0m\n\u001b[0m\u001b[0;32m      6\u001b[0m \u001b[0mplt\u001b[0m\u001b[1;33m.\u001b[0m\u001b[0mshow\u001b[0m\u001b[1;33m(\u001b[0m\u001b[1;33m)\u001b[0m\u001b[1;33m\u001b[0m\u001b[0m\n",
      "\u001b[1;32m~\\Anaconda3\\lib\\site-packages\\matplotlib\\pyplot.py\u001b[0m in \u001b[0;36mbar\u001b[1;34m(*args, **kwargs)\u001b[0m\n\u001b[0;32m   2646\u001b[0m                       mplDeprecation)\n\u001b[0;32m   2647\u001b[0m     \u001b[1;32mtry\u001b[0m\u001b[1;33m:\u001b[0m\u001b[1;33m\u001b[0m\u001b[0m\n\u001b[1;32m-> 2648\u001b[1;33m         \u001b[0mret\u001b[0m \u001b[1;33m=\u001b[0m \u001b[0max\u001b[0m\u001b[1;33m.\u001b[0m\u001b[0mbar\u001b[0m\u001b[1;33m(\u001b[0m\u001b[1;33m*\u001b[0m\u001b[0margs\u001b[0m\u001b[1;33m,\u001b[0m \u001b[1;33m**\u001b[0m\u001b[0mkwargs\u001b[0m\u001b[1;33m)\u001b[0m\u001b[1;33m\u001b[0m\u001b[0m\n\u001b[0m\u001b[0;32m   2649\u001b[0m     \u001b[1;32mfinally\u001b[0m\u001b[1;33m:\u001b[0m\u001b[1;33m\u001b[0m\u001b[0m\n\u001b[0;32m   2650\u001b[0m         \u001b[0max\u001b[0m\u001b[1;33m.\u001b[0m\u001b[0m_hold\u001b[0m \u001b[1;33m=\u001b[0m \u001b[0mwashold\u001b[0m\u001b[1;33m\u001b[0m\u001b[0m\n",
      "\u001b[1;32m~\\Anaconda3\\lib\\site-packages\\matplotlib\\__init__.py\u001b[0m in \u001b[0;36minner\u001b[1;34m(ax, *args, **kwargs)\u001b[0m\n\u001b[0;32m   1715\u001b[0m                     warnings.warn(msg % (label_namer, func.__name__),\n\u001b[0;32m   1716\u001b[0m                                   RuntimeWarning, stacklevel=2)\n\u001b[1;32m-> 1717\u001b[1;33m             \u001b[1;32mreturn\u001b[0m \u001b[0mfunc\u001b[0m\u001b[1;33m(\u001b[0m\u001b[0max\u001b[0m\u001b[1;33m,\u001b[0m \u001b[1;33m*\u001b[0m\u001b[0margs\u001b[0m\u001b[1;33m,\u001b[0m \u001b[1;33m**\u001b[0m\u001b[0mkwargs\u001b[0m\u001b[1;33m)\u001b[0m\u001b[1;33m\u001b[0m\u001b[0m\n\u001b[0m\u001b[0;32m   1718\u001b[0m         \u001b[0mpre_doc\u001b[0m \u001b[1;33m=\u001b[0m \u001b[0minner\u001b[0m\u001b[1;33m.\u001b[0m\u001b[0m__doc__\u001b[0m\u001b[1;33m\u001b[0m\u001b[0m\n\u001b[0;32m   1719\u001b[0m         \u001b[1;32mif\u001b[0m \u001b[0mpre_doc\u001b[0m \u001b[1;32mis\u001b[0m \u001b[1;32mNone\u001b[0m\u001b[1;33m:\u001b[0m\u001b[1;33m\u001b[0m\u001b[0m\n",
      "\u001b[1;32m~\\Anaconda3\\lib\\site-packages\\matplotlib\\axes\\_axes.py\u001b[0m in \u001b[0;36mbar\u001b[1;34m(self, *args, **kwargs)\u001b[0m\n\u001b[0;32m   2018\u001b[0m \u001b[1;33m\u001b[0m\u001b[0m\n\u001b[0;32m   2019\u001b[0m         \u001b[1;32mif\u001b[0m \u001b[0morientation\u001b[0m \u001b[1;33m==\u001b[0m \u001b[1;34m'vertical'\u001b[0m\u001b[1;33m:\u001b[0m\u001b[1;33m\u001b[0m\u001b[0m\n\u001b[1;32m-> 2020\u001b[1;33m             \u001b[0mself\u001b[0m\u001b[1;33m.\u001b[0m\u001b[0m_process_unit_info\u001b[0m\u001b[1;33m(\u001b[0m\u001b[0mxdata\u001b[0m\u001b[1;33m=\u001b[0m\u001b[0mx\u001b[0m\u001b[1;33m,\u001b[0m \u001b[0mydata\u001b[0m\u001b[1;33m=\u001b[0m\u001b[0mheight\u001b[0m\u001b[1;33m,\u001b[0m \u001b[0mkwargs\u001b[0m\u001b[1;33m=\u001b[0m\u001b[0mkwargs\u001b[0m\u001b[1;33m)\u001b[0m\u001b[1;33m\u001b[0m\u001b[0m\n\u001b[0m\u001b[0;32m   2021\u001b[0m             \u001b[1;32mif\u001b[0m \u001b[0mlog\u001b[0m\u001b[1;33m:\u001b[0m\u001b[1;33m\u001b[0m\u001b[0m\n\u001b[0;32m   2022\u001b[0m                 \u001b[0mself\u001b[0m\u001b[1;33m.\u001b[0m\u001b[0mset_yscale\u001b[0m\u001b[1;33m(\u001b[0m\u001b[1;34m'log'\u001b[0m\u001b[1;33m,\u001b[0m \u001b[0mnonposy\u001b[0m\u001b[1;33m=\u001b[0m\u001b[1;34m'clip'\u001b[0m\u001b[1;33m)\u001b[0m\u001b[1;33m\u001b[0m\u001b[0m\n",
      "\u001b[1;32m~\\Anaconda3\\lib\\site-packages\\matplotlib\\axes\\_base.py\u001b[0m in \u001b[0;36m_process_unit_info\u001b[1;34m(self, xdata, ydata, kwargs)\u001b[0m\n\u001b[0;32m   1987\u001b[0m             \u001b[1;31m# we only need to update if there is nothing set yet.\u001b[0m\u001b[1;33m\u001b[0m\u001b[1;33m\u001b[0m\u001b[0m\n\u001b[0;32m   1988\u001b[0m             \u001b[1;32mif\u001b[0m \u001b[1;32mnot\u001b[0m \u001b[0mself\u001b[0m\u001b[1;33m.\u001b[0m\u001b[0mxaxis\u001b[0m\u001b[1;33m.\u001b[0m\u001b[0mhave_units\u001b[0m\u001b[1;33m(\u001b[0m\u001b[1;33m)\u001b[0m\u001b[1;33m:\u001b[0m\u001b[1;33m\u001b[0m\u001b[0m\n\u001b[1;32m-> 1989\u001b[1;33m                 \u001b[0mself\u001b[0m\u001b[1;33m.\u001b[0m\u001b[0mxaxis\u001b[0m\u001b[1;33m.\u001b[0m\u001b[0mupdate_units\u001b[0m\u001b[1;33m(\u001b[0m\u001b[0mxdata\u001b[0m\u001b[1;33m)\u001b[0m\u001b[1;33m\u001b[0m\u001b[0m\n\u001b[0m\u001b[0;32m   1990\u001b[0m \u001b[1;33m\u001b[0m\u001b[0m\n\u001b[0;32m   1991\u001b[0m         \u001b[1;32mif\u001b[0m \u001b[0mydata\u001b[0m \u001b[1;32mis\u001b[0m \u001b[1;32mnot\u001b[0m \u001b[1;32mNone\u001b[0m\u001b[1;33m:\u001b[0m\u001b[1;33m\u001b[0m\u001b[0m\n",
      "\u001b[1;32m~\\Anaconda3\\lib\\site-packages\\matplotlib\\axis.py\u001b[0m in \u001b[0;36mupdate_units\u001b[1;34m(self, data)\u001b[0m\n\u001b[0;32m   1430\u001b[0m         \"\"\"\n\u001b[0;32m   1431\u001b[0m \u001b[1;33m\u001b[0m\u001b[0m\n\u001b[1;32m-> 1432\u001b[1;33m         \u001b[0mconverter\u001b[0m \u001b[1;33m=\u001b[0m \u001b[0mmunits\u001b[0m\u001b[1;33m.\u001b[0m\u001b[0mregistry\u001b[0m\u001b[1;33m.\u001b[0m\u001b[0mget_converter\u001b[0m\u001b[1;33m(\u001b[0m\u001b[0mdata\u001b[0m\u001b[1;33m)\u001b[0m\u001b[1;33m\u001b[0m\u001b[0m\n\u001b[0m\u001b[0;32m   1433\u001b[0m         \u001b[1;32mif\u001b[0m \u001b[0mconverter\u001b[0m \u001b[1;32mis\u001b[0m \u001b[1;32mNone\u001b[0m\u001b[1;33m:\u001b[0m\u001b[1;33m\u001b[0m\u001b[0m\n\u001b[0;32m   1434\u001b[0m             \u001b[1;32mreturn\u001b[0m \u001b[1;32mFalse\u001b[0m\u001b[1;33m\u001b[0m\u001b[0m\n",
      "\u001b[1;32m~\\Anaconda3\\lib\\site-packages\\matplotlib\\units.py\u001b[0m in \u001b[0;36mget_converter\u001b[1;34m(self, x)\u001b[0m\n\u001b[0;32m    155\u001b[0m                 if (not isinstance(next_item, np.ndarray) or\n\u001b[0;32m    156\u001b[0m                     next_item.shape != x.shape):\n\u001b[1;32m--> 157\u001b[1;33m                     \u001b[0mconverter\u001b[0m \u001b[1;33m=\u001b[0m \u001b[0mself\u001b[0m\u001b[1;33m.\u001b[0m\u001b[0mget_converter\u001b[0m\u001b[1;33m(\u001b[0m\u001b[0mnext_item\u001b[0m\u001b[1;33m)\u001b[0m\u001b[1;33m\u001b[0m\u001b[0m\n\u001b[0m\u001b[0;32m    158\u001b[0m                 \u001b[1;32mreturn\u001b[0m \u001b[0mconverter\u001b[0m\u001b[1;33m\u001b[0m\u001b[0m\n\u001b[0;32m    159\u001b[0m \u001b[1;33m\u001b[0m\u001b[0m\n",
      "\u001b[1;32m~\\Anaconda3\\lib\\site-packages\\matplotlib\\units.py\u001b[0m in \u001b[0;36mget_converter\u001b[1;34m(self, x)\u001b[0m\n\u001b[0;32m    160\u001b[0m         \u001b[1;32mif\u001b[0m \u001b[0mconverter\u001b[0m \u001b[1;32mis\u001b[0m \u001b[1;32mNone\u001b[0m\u001b[1;33m:\u001b[0m\u001b[1;33m\u001b[0m\u001b[0m\n\u001b[0;32m    161\u001b[0m             \u001b[1;32mtry\u001b[0m\u001b[1;33m:\u001b[0m\u001b[1;33m\u001b[0m\u001b[0m\n\u001b[1;32m--> 162\u001b[1;33m                 \u001b[0mthisx\u001b[0m \u001b[1;33m=\u001b[0m \u001b[0msafe_first_element\u001b[0m\u001b[1;33m(\u001b[0m\u001b[0mx\u001b[0m\u001b[1;33m)\u001b[0m\u001b[1;33m\u001b[0m\u001b[0m\n\u001b[0m\u001b[0;32m    163\u001b[0m             \u001b[1;32mexcept\u001b[0m \u001b[1;33m(\u001b[0m\u001b[0mTypeError\u001b[0m\u001b[1;33m,\u001b[0m \u001b[0mStopIteration\u001b[0m\u001b[1;33m)\u001b[0m\u001b[1;33m:\u001b[0m\u001b[1;33m\u001b[0m\u001b[0m\n\u001b[0;32m    164\u001b[0m                 \u001b[1;32mpass\u001b[0m\u001b[1;33m\u001b[0m\u001b[0m\n",
      "\u001b[1;32m~\\Anaconda3\\lib\\site-packages\\matplotlib\\cbook\\__init__.py\u001b[0m in \u001b[0;36msafe_first_element\u001b[1;34m(obj)\u001b[0m\n\u001b[0;32m   2309\u001b[0m         \u001b[1;32mexcept\u001b[0m \u001b[0mTypeError\u001b[0m\u001b[1;33m:\u001b[0m\u001b[1;33m\u001b[0m\u001b[0m\n\u001b[0;32m   2310\u001b[0m             \u001b[1;32mpass\u001b[0m\u001b[1;33m\u001b[0m\u001b[0m\n\u001b[1;32m-> 2311\u001b[1;33m         raise RuntimeError(\"matplotlib does not support generators \"\n\u001b[0m\u001b[0;32m   2312\u001b[0m                            \"as input\")\n\u001b[0;32m   2313\u001b[0m     \u001b[1;32mreturn\u001b[0m \u001b[0mnext\u001b[0m\u001b[1;33m(\u001b[0m\u001b[0miter\u001b[0m\u001b[1;33m(\u001b[0m\u001b[0mobj\u001b[0m\u001b[1;33m)\u001b[0m\u001b[1;33m)\u001b[0m\u001b[1;33m\u001b[0m\u001b[0m\n",
      "\u001b[1;31mRuntimeError\u001b[0m: matplotlib does not support generators as input"
     ]
    },
    {
     "data": {
      "image/png": "[encoded data removed]",
      "text/plain": [
       "<matplotlib.figure.Figure at 0x208f7a8d3c8>"
      ]
     },
     "metadata": {},
     "output_type": "display_data"
    }
   ],
   "source": [
    "xLabels = list(data['classe'][data['candidato'] == candidate_name].value_counts().keys())\n",
    "yValues = np.array(list(data['classe'][data['candidato'] == candidate_name].value_counts()))\n",
    "\n",
    "fig, ax = plt.subplots()\n",
    "plt.bar(xLabels, yValues)\n",
    "plt.show()\n"
   ]
  },
  {
   "cell_type": "markdown",
   "metadata": {},
   "source": [
    "### Pre-processing tweets"
   ]
  },
  {
   "cell_type": "code",
   "execution_count": 326,
   "metadata": {},
   "outputs": [],
   "source": [
    "def tweet2wordlist(tweet):\n",
    "    tweet = BeautifulSoup(tweet, 'lxml').get_text()\n",
    "    tweet = tweet.lower()\n",
    "    tweet = re.sub('[^a-zA-Z]', ' ', tweet)\n",
    "    stops = set(nltk.corpus.stopwords.words('portuguese'))\n",
    "    words = nltk.word_tokenize(tweet.lower().strip())\n",
    "    stemmer = nltk.stem.RSLPStemmer()\n",
    "    word_list = [stemmer.stem(word) for word in words if word not in stops]\n",
    "    return ' '.join(word_list)\n",
    "    "
   ]
  },
  {
   "cell_type": "code",
   "execution_count": 327,
   "metadata": {},
   "outputs": [],
   "source": [
    "def pre_processing(data):\n",
    "    word_lists = []\n",
    "    for tweet in data['tweet']:\n",
    "        word_list = tweet2wordlist(tweet)\n",
    "        if word_list != []:\n",
    "            word_lists.append(word_list)\n",
    "    return word_lists"
   ]
  },
  {
   "cell_type": "code",
   "execution_count": 328,
   "metadata": {
    "scrolled": true
   },
   "outputs": [],
   "source": [
    "vectorizer = CountVectorizer(analyzer='word', preprocessor=None, stop_words=None)\n",
    "tfidf = TfidfTransformer()\n",
    "train_candidate = vectorizer.fit_transform(pre_processing(data[data['candidato'] == candidate_name])).toarray()\n",
    "features_tfidf = tfidf.fit_transform(train_candidate).toarray()\n",
    "#train_candidate = features_tfidf"
   ]
  },
  {
   "cell_type": "code",
   "execution_count": 329,
   "metadata": {},
   "outputs": [
    {
     "name": "stdout",
     "output_type": "stream",
     "text": [
      "Acuracia: 0.8046875\n"
     ]
    }
   ],
   "source": [
    "y_pred = cross_val_predict(BernoulliNB(), train_candidate, data['classe'][data['candidato'] == candidate_name], cv=2)\n",
    "print('Acuracia:', skm.accuracy_score(y_pred=y_pred, y_true=data['classe'][data['candidato'] == candidate_name]))\n",
    "#print('Precisão:', skm.precision_score(y_pred=y_pred, y_true=data['classe'][data['candidato'] == candidate_name], average='micro'))"
   ]
  },
  {
   "cell_type": "code",
   "execution_count": 330,
   "metadata": {},
   "outputs": [
    {
     "name": "stdout",
     "output_type": "stream",
     "text": [
      "Acuracia: 0.75\n"
     ]
    }
   ],
   "source": [
    "y_pred = cross_val_predict(GaussianNB(), train_candidate, data['classe'][data['candidato'] == candidate_name], cv=2)\n",
    "print('Acuracia:', skm.accuracy_score(y_pred=y_pred, y_true=data['classe'][data['candidato'] == candidate_name]))\n",
    "#print('Precisão:', skm.precision_score(y_pred=y_pred, y_true=data['classe'][data['candidato'] == candidate_name], average='micro'))"
   ]
  },
  {
   "cell_type": "code",
   "execution_count": 331,
   "metadata": {},
   "outputs": [
    {
     "name": "stdout",
     "output_type": "stream",
     "text": [
      "Acuracia: 0.6796875\n"
     ]
    }
   ],
   "source": [
    "y_pred = cross_val_predict(MultinomialNB(), train_candidate, data['classe'][data['candidato'] == candidate_name], cv=2)\n",
    "print('Acuracia:', skm.accuracy_score(y_pred=y_pred, y_true=data['classe'][data['candidato'] == candidate_name]))\n",
    "#print('Precisão:', skm.precision_score(y_pred=y_pred, y_true=data['classe'][data['candidato'] == candidate_name], average='micro'))"
   ]
  }
 ],
 "metadata": {
  "kernelspec": {
   "display_name": "Python 3",
   "language": "python",
   "name": "python3"
  },
  "language_info": {
   "codemirror_mode": {
    "name": "ipython",
    "version": 3
   },
   "file_extension": ".py",
   "mimetype": "text/x-python",
   "name": "python",
   "nbconvert_exporter": "python",
   "pygments_lexer": "ipython3",
   "version": "3.6.4"
  }
 },
 "nbformat": 4,
 "nbformat_minor": 2
}
