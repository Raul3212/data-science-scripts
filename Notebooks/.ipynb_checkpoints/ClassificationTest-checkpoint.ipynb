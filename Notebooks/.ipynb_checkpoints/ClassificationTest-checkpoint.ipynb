{
 "cells": [
  {
   "cell_type": "code",
   "execution_count": 13,
   "metadata": {},
   "outputs": [],
   "source": [
    "import pandas as pd\n",
    "import numpy as np\n",
    "import matplotlib.pyplot as plt\n",
    "import re\n",
    "from nltk.tokenize import TweetTokenizer\n",
    "import nltk\n",
    "from PIL import Image\n",
    "from os import path\n",
    "from sklearn.naive_bayes import GaussianNB,BernoulliNB,MultinomialNB\n",
    "from sklearn import tree\n",
    "from sklearn.model_selection import train_test_split\n",
    "from sklearn.feature_extraction.text import CountVectorizer\n",
    "from sklearn.decomposition import TruncatedSVD\n",
    "from sklearn import metrics\n",
    "from sklearn.ensemble import RandomForestClassifier, AdaBoostClassifier\n",
    "from sklearn.neighbors import KNeighborsClassifier\n",
    "from sklearn.svm import SVC\n",
    "import time\n",
    "from emoji.unicode_codes import UNICODE_EMOJI"
   ]
  },
  {
   "cell_type": "markdown",
   "metadata": {},
   "source": [
    "Carrega dataset"
   ]
  },
  {
   "cell_type": "code",
   "execution_count": 2,
   "metadata": {},
   "outputs": [],
   "source": [
    "df = pd.read_csv(\"DATASET/Reviews.csv\")"
   ]
  },
  {
   "cell_type": "code",
   "execution_count": 3,
   "metadata": {},
   "outputs": [],
   "source": [
    "df = df[['Text','Score']]"
   ]
  },
  {
   "cell_type": "code",
   "execution_count": 4,
   "metadata": {},
   "outputs": [],
   "source": [
    "df['Score'] = df['Score'].apply(lambda x : \"Pos\" if x > 3 else \"Neg\")"
   ]
  },
  {
   "cell_type": "code",
   "execution_count": 5,
   "metadata": {},
   "outputs": [],
   "source": [
    "X = df[['Text']].Text\n",
    "Y = df[['Score']].Score"
   ]
  },
  {
   "cell_type": "markdown",
   "metadata": {},
   "source": [
    "Transforma texto em bag of words"
   ]
  },
  {
   "cell_type": "code",
   "execution_count": 6,
   "metadata": {},
   "outputs": [],
   "source": [
    "vectorizer = CountVectorizer()\n",
    "X = vectorizer.fit_transform(X)"
   ]
  },
  {
   "cell_type": "markdown",
   "metadata": {},
   "source": [
    "Redução de dimensionalidade Truncated SVD (PCA para matrizes espaças) "
   ]
  },
  {
   "cell_type": "code",
   "execution_count": 7,
   "metadata": {},
   "outputs": [],
   "source": [
    "svd = TruncatedSVD(n_components=500)\n",
    "X_truncated = svd.fit_transform(X)"
   ]
  },
  {
   "cell_type": "markdown",
   "metadata": {},
   "source": [
    "Divite teste e treino"
   ]
  },
  {
   "cell_type": "code",
   "execution_count": 8,
   "metadata": {},
   "outputs": [],
   "source": [
    "X_train, X_test, Y_train, Y_test = train_test_split(X_truncated, Y, test_size=0.3, random_state=1)"
   ]
  },
  {
   "cell_type": "code",
   "execution_count": 16,
   "metadata": {},
   "outputs": [],
   "source": [
    "names = [\"GaussianNB\", \"BernoulliNB\", \"DecisionTreeClassifier\",\"RandomForestClassifier\", \"AdaBoostClassifier\",\"Linear SVM\"]"
   ]
  },
  {
   "cell_type": "code",
   "execution_count": 17,
   "metadata": {},
   "outputs": [],
   "source": [
    "listModels = [GaussianNB(),BernoulliNB(),tree.DecisionTreeClassifier(max_depth=8),RandomForestClassifier(max_depth=8, n_estimators=10, max_features=1),AdaBoostClassifier(),SVC(kernel=\"linear\", C=0.025)]"
   ]
  },
  {
   "cell_type": "markdown",
   "metadata": {},
   "source": [
    "Treina modelos"
   ]
  },
  {
   "cell_type": "code",
   "execution_count": null,
   "metadata": {
    "scrolled": true
   },
   "outputs": [
    {
     "name": "stdout",
     "output_type": "stream",
     "text": [
      "Modelo :  GaussianNB\n",
      "inicio treino\n",
      "fim treino\n",
      "             precision    recall  f1-score   support\n",
      "\n",
      "        Neg       0.29      0.33      0.30     37566\n",
      "        Pos       0.80      0.77      0.79    132971\n",
      "\n",
      "avg / total       0.69      0.67      0.68    170537\n",
      "\n",
      "Time:  6.319117546081543\n",
      "\n",
      "\n",
      "Modelo :  BernoulliNB\n",
      "inicio treino\n",
      "fim treino\n",
      "             precision    recall  f1-score   support\n",
      "\n",
      "        Neg       0.67      0.34      0.45     37566\n",
      "        Pos       0.84      0.95      0.89    132971\n",
      "\n",
      "avg / total       0.80      0.82      0.79    170537\n",
      "\n",
      "Time:  8.223363876342773\n",
      "\n",
      "\n",
      "Modelo :  DecisionTreeClassifier\n",
      "inicio treino\n",
      "fim treino\n",
      "             precision    recall  f1-score   support\n",
      "\n",
      "        Neg       0.56      0.18      0.28     37566\n",
      "        Pos       0.81      0.96      0.88    132971\n",
      "\n",
      "avg / total       0.75      0.79      0.74    170537\n",
      "\n",
      "Time:  257.55204677581787\n",
      "\n",
      "\n",
      "Modelo :  RandomForestClassifier\n",
      "inicio treino\n",
      "fim treino\n",
      "             precision    recall  f1-score   support\n",
      "\n",
      "        Neg       0.99      0.00      0.01     37566\n",
      "        Pos       0.78      1.00      0.88    132971\n",
      "\n",
      "avg / total       0.83      0.78      0.69    170537\n",
      "\n",
      "Time:  9.349493265151978\n",
      "\n",
      "\n",
      "Modelo :  AdaBoostClassifier\n",
      "inicio treino\n",
      "fim treino\n",
      "             precision    recall  f1-score   support\n",
      "\n",
      "        Neg       0.59      0.28      0.38     37566\n",
      "        Pos       0.82      0.95      0.88    132971\n",
      "\n",
      "avg / total       0.77      0.80      0.77    170537\n",
      "\n",
      "Time:  2037.686089515686\n",
      "\n",
      "\n",
      "Modelo :  Linear SVM\n",
      "inicio treino\n",
      "fim treino\n",
      "             precision    recall  f1-score   support\n",
      "\n",
      "        Neg       0.76      0.51      0.61     37566\n",
      "        Pos       0.87      0.95      0.91    132971\n",
      "\n",
      "avg / total       0.85      0.86      0.85    170537\n",
      "\n",
      "Time:  74688.45048356056\n",
      "\n",
      "\n",
      "Modelo :  Nearest Neighbors\n",
      "inicio treino\n",
      "fim treino\n"
     ]
    }
   ],
   "source": [
    "results = pd.DataFrame()\n",
    "i=0\n",
    "for name,model in zip(names,listModels):\n",
    "    start_time = time.time()\n",
    "    print(\"Modelo : \",name)\n",
    "    #Treina modelo\n",
    "    print(\"inicio treino\")\n",
    "    model.fit(X_train,Y_train)\n",
    "    print(\"fim treino\")\n",
    "    #Submeter-se dados de treino ao modelo - Teste\n",
    "    Y_pred = model.predict(X_test)\n",
    "    #Avalia modelo\n",
    "    metricsStr = metrics.classification_report(Y_test,Y_pred)\n",
    "    print(metricsStr)\n",
    "    timeexec = (time.time() - start_time)\n",
    "    print(\"Time: \",timeexec)\n",
    "    print(\"\\n\")\n",
    "    \n",
    "    #Set tempo de execução\n",
    "    results.loc[i,\"MODEL\"] = name\n",
    "    results.loc[i,\"METRIC\"] =  metricsStr\n",
    "    results.loc[i,\"EXEC_SEC\"] = timeexec\n",
    "    \n",
    "    i+=1\n",
    "    "
   ]
  },
  {
   "cell_type": "code",
   "execution_count": null,
   "metadata": {},
   "outputs": [],
   "source": [
    "print(results)"
   ]
  },
  {
   "cell_type": "code",
   "execution_count": null,
   "metadata": {},
   "outputs": [],
   "source": []
  }
 ],
 "metadata": {
  "kernelspec": {
   "display_name": "Python 3",
   "language": "python",
   "name": "python3"
  },
  "language_info": {
   "codemirror_mode": {
    "name": "ipython",
    "version": 3
   },
   "file_extension": ".py",
   "mimetype": "text/x-python",
   "name": "python",
   "nbconvert_exporter": "python",
   "pygments_lexer": "ipython3",
   "version": "3.6.4"
  }
 },
 "nbformat": 4,
 "nbformat_minor": 2
}
