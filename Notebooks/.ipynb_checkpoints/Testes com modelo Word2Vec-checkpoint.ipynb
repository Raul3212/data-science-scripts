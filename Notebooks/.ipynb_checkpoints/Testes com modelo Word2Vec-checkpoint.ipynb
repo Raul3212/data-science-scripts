{
 "cells": [
  {
   "cell_type": "code",
   "execution_count": 74,
   "metadata": {},
   "outputs": [],
   "source": [
    "from gensim.models import Word2Vec\n",
    "import numpy as np\n",
    "import matplotlib.pyplot as plt\n",
    "from sklearn.manifold import TSNE"
   ]
  },
  {
   "cell_type": "markdown",
   "metadata": {},
   "source": [
    "### Loading the Word2Vec model"
   ]
  },
  {
   "cell_type": "code",
   "execution_count": 75,
   "metadata": {},
   "outputs": [],
   "source": [
    "model = Word2Vec.load('../Data/Word2Vec/tweets_presidential_elections_300_min1_cont2_cbow')"
   ]
  },
  {
   "cell_type": "markdown",
   "metadata": {},
   "source": [
    "### Informations about model"
   ]
  },
  {
   "cell_type": "code",
   "execution_count": 76,
   "metadata": {},
   "outputs": [
    {
     "data": {
      "text/plain": [
       "141097"
      ]
     },
     "execution_count": 76,
     "metadata": {},
     "output_type": "execute_result"
    }
   ],
   "source": [
    "len(model.wv.vocab)"
   ]
  },
  {
   "cell_type": "markdown",
   "metadata": {},
   "source": [
    "### Tests with model"
   ]
  },
  {
   "cell_type": "markdown",
   "metadata": {},
   "source": [
    "#### Adjectives similarities"
   ]
  },
  {
   "cell_type": "code",
   "execution_count": 77,
   "metadata": {
    "scrolled": true
   },
   "outputs": [
    {
     "name": "stderr",
     "output_type": "stream",
     "text": [
      "C:\\Users\\raula\\Anaconda3\\lib\\site-packages\\ipykernel_launcher.py:1: DeprecationWarning: Call to deprecated `most_similar` (Method will be removed in 4.0.0, use self.wv.most_similar() instead).\n",
      "  \"\"\"Entry point for launching an IPython kernel.\n"
     ]
    },
    {
     "data": {
      "text/plain": [
       "[('ladrão', 0.8406648635864258),\n",
       " ('bandido', 0.8354353904724121),\n",
       " ('criminoso', 0.7990443706512451),\n",
       " ('ladrao', 0.7533546686172485),\n",
       " ('tucano', 0.7211666703224182),\n",
       " ('politico', 0.7174848318099976),\n",
       " ('condenado', 0.7118803262710571),\n",
       " ('vagabundo', 0.708651602268219),\n",
       " ('safado', 0.6905996799468994),\n",
       " ('canalha', 0.6895062923431396)]"
      ]
     },
     "execution_count": 77,
     "metadata": {},
     "output_type": "execute_result"
    }
   ],
   "source": [
    "model.most_similar('corrupto')"
   ]
  },
  {
   "cell_type": "code",
   "execution_count": 78,
   "metadata": {
    "scrolled": true
   },
   "outputs": [
    {
     "name": "stderr",
     "output_type": "stream",
     "text": [
      "C:\\Users\\raula\\Anaconda3\\lib\\site-packages\\ipykernel_launcher.py:1: DeprecationWarning: Call to deprecated `most_similar` (Method will be removed in 4.0.0, use self.wv.most_similar() instead).\n",
      "  \"\"\"Entry point for launching an IPython kernel.\n"
     ]
    },
    {
     "data": {
      "text/plain": [
       "[('ótimo', 0.736582338809967),\n",
       " ('perfeito', 0.6746100783348083),\n",
       " ('péssimo', 0.6623778343200684),\n",
       " ('melhor', 0.6299581527709961),\n",
       " ('legal', 0.6268087029457092),\n",
       " ('ruim', 0.6168817281723022),\n",
       " ('lindo', 0.6121782064437866),\n",
       " ('maravilhoso', 0.6011318564414978),\n",
       " ('certo', 0.5958089828491211),\n",
       " ('errado', 0.5855730772018433)]"
      ]
     },
     "execution_count": 78,
     "metadata": {},
     "output_type": "execute_result"
    }
   ],
   "source": [
    "model.most_similar('bom')"
   ]
  },
  {
   "cell_type": "code",
   "execution_count": 79,
   "metadata": {
    "scrolled": true
   },
   "outputs": [
    {
     "name": "stderr",
     "output_type": "stream",
     "text": [
      "C:\\Users\\raula\\Anaconda3\\lib\\site-packages\\ipykernel_launcher.py:1: DeprecationWarning: Call to deprecated `most_similar` (Method will be removed in 4.0.0, use self.wv.most_similar() instead).\n",
      "  \"\"\"Entry point for launching an IPython kernel.\n"
     ]
    },
    {
     "data": {
      "text/plain": [
       "[('direita', 0.8797248601913452),\n",
       " ('população', 0.7382278442382812),\n",
       " ('elite', 0.7286158800125122),\n",
       " ('oposição', 0.7231075763702393),\n",
       " ('imprensa', 0.7006427049636841),\n",
       " ('sociedade', 0.69990473985672),\n",
       " ('mídia', 0.6905674338340759),\n",
       " ('direitasóacho', 0.669465184211731),\n",
       " ('ditadura', 0.6637107133865356),\n",
       " ('violência', 0.6544392704963684)]"
      ]
     },
     "execution_count": 79,
     "metadata": {},
     "output_type": "execute_result"
    }
   ],
   "source": [
    "model.most_similar('esquerda')"
   ]
  },
  {
   "cell_type": "code",
   "execution_count": 80,
   "metadata": {},
   "outputs": [
    {
     "name": "stderr",
     "output_type": "stream",
     "text": [
      "C:\\Users\\raula\\Anaconda3\\lib\\site-packages\\ipykernel_launcher.py:1: DeprecationWarning: Call to deprecated `most_similar` (Method will be removed in 4.0.0, use self.wv.most_similar() instead).\n",
      "  \"\"\"Entry point for launching an IPython kernel.\n"
     ]
    },
    {
     "data": {
      "text/plain": [
       "[('julgado', 0.7638018131256104),\n",
       " ('tucano', 0.7587553262710571),\n",
       " ('condenado', 0.7346660494804382),\n",
       " ('criminoso', 0.7097383737564087),\n",
       " ('investigado', 0.6928986310958862),\n",
       " ('expresidente', 0.6807794570922852),\n",
       " ('corrupto', 0.6659649610519409),\n",
       " ('considerado', 0.6621046662330627),\n",
       " ('culpado', 0.661752462387085),\n",
       " ('negado', 0.6599233746528625)]"
      ]
     },
     "execution_count": 80,
     "metadata": {},
     "output_type": "execute_result"
    }
   ],
   "source": [
    "model.most_similar('réu')"
   ]
  },
  {
   "cell_type": "markdown",
   "metadata": {},
   "source": [
    "#### Similarities between candidate names"
   ]
  },
  {
   "cell_type": "markdown",
   "metadata": {},
   "source": [
    "Os exemplos abaixo fazem uma verificação com relação à similaridade entre palavras. \n",
    "Alguns aspectos interessantes podem ser notados em alguns testes:\n",
    "- Pronomes foram associados a nomes;\n",
    "- Adjetivos normalmente atribuídos a um candidato aparecem com alta similaridade quando o nome do candidato é dado como entrada;\n",
    "- Nomes de outros candidatos normalmente aparecem quando o nome de um candidato é dado como entrada;\n",
    "- Nomes de partidos aparecem quando um nome de candidato é dado como entrada."
   ]
  },
  {
   "cell_type": "code",
   "execution_count": 81,
   "metadata": {},
   "outputs": [
    {
     "name": "stderr",
     "output_type": "stream",
     "text": [
      "C:\\Users\\raula\\Anaconda3\\lib\\site-packages\\ipykernel_launcher.py:1: DeprecationWarning: Call to deprecated `most_similar` (Method will be removed in 4.0.0, use self.wv.most_similar() instead).\n",
      "  \"\"\"Entry point for launching an IPython kernel.\n"
     ]
    },
    {
     "data": {
      "text/plain": [
       "[('ele', 0.6658040285110474),\n",
       " ('petista', 0.6585592031478882),\n",
       " ('expresidente', 0.6573039293289185),\n",
       " ('bandido', 0.6341908574104309),\n",
       " ('molusco', 0.609594464302063),\n",
       " ('condenado', 0.6085819005966187),\n",
       " ('criminoso', 0.6076935529708862),\n",
       " ('corrupto', 0.6038070917129517),\n",
       " ('luladrão', 0.602912425994873),\n",
       " ('bolsonaro', 0.5850706100463867)]"
      ]
     },
     "execution_count": 81,
     "metadata": {},
     "output_type": "execute_result"
    }
   ],
   "source": [
    "model.most_similar('lula')"
   ]
  },
  {
   "cell_type": "code",
   "execution_count": 82,
   "metadata": {},
   "outputs": [
    {
     "name": "stderr",
     "output_type": "stream",
     "text": [
      "C:\\Users\\raula\\Anaconda3\\lib\\site-packages\\ipykernel_launcher.py:1: DeprecationWarning: Call to deprecated `most_similar` (Method will be removed in 4.0.0, use self.wv.most_similar() instead).\n",
      "  \"\"\"Entry point for launching an IPython kernel.\n"
     ]
    },
    {
     "data": {
      "text/plain": [
       "[('ciro', 0.6129334568977356),\n",
       " ('bolsolixo', 0.6054478883743286),\n",
       " ('bolso', 0.5919108390808105),\n",
       " ('mito', 0.5851829051971436),\n",
       " ('lula', 0.5850706100463867),\n",
       " ('trump', 0.5794508457183838),\n",
       " ('gomes', 0.5755366086959839),\n",
       " ('nordeste', 0.5740717649459839),\n",
       " ('petista', 0.5675337314605713),\n",
       " ('fascismo', 0.5580141544342041)]"
      ]
     },
     "execution_count": 82,
     "metadata": {},
     "output_type": "execute_result"
    }
   ],
   "source": [
    "model.most_similar('bolsonaro')"
   ]
  },
  {
   "cell_type": "code",
   "execution_count": 83,
   "metadata": {},
   "outputs": [
    {
     "name": "stderr",
     "output_type": "stream",
     "text": [
      "C:\\Users\\raula\\Anaconda3\\lib\\site-packages\\ipykernel_launcher.py:1: DeprecationWarning: Call to deprecated `most_similar` (Method will be removed in 4.0.0, use self.wv.most_similar() instead).\n",
      "  \"\"\"Entry point for launching an IPython kernel.\n"
     ]
    },
    {
     "data": {
      "text/plain": [
       "[('manu', 0.6242735385894775),\n",
       " ('manuela', 0.6208099126815796),\n",
       " ('boulos', 0.5899618864059448),\n",
       " ('submarina', 0.5810409784317017),\n",
       " ('bolsonaromarina', 0.5647255182266235),\n",
       " ('haddad', 0.5642256736755371),\n",
       " ('silva', 0.5468045473098755),\n",
       " ('murina', 0.5387901663780212),\n",
       " ('geraldo', 0.5384024381637573),\n",
       " ('margie', 0.5311382412910461)]"
      ]
     },
     "execution_count": 83,
     "metadata": {},
     "output_type": "execute_result"
    }
   ],
   "source": [
    "model.most_similar('marina')"
   ]
  },
  {
   "cell_type": "code",
   "execution_count": 84,
   "metadata": {},
   "outputs": [
    {
     "name": "stderr",
     "output_type": "stream",
     "text": [
      "C:\\Users\\raula\\Anaconda3\\lib\\site-packages\\ipykernel_launcher.py:1: DeprecationWarning: Call to deprecated `most_similar` (Method will be removed in 4.0.0, use self.wv.most_similar() instead).\n",
      "  \"\"\"Entry point for launching an IPython kernel.\n"
     ]
    },
    {
     "data": {
      "text/plain": [
       "[('manu', 0.8673732876777649),\n",
       " ('manoela', 0.8245112895965576),\n",
       " ('manuella', 0.7623773813247681),\n",
       " ('boulos', 0.7289538383483887),\n",
       " ('dávila', 0.713313102722168),\n",
       " ('haddad', 0.6591469049453735),\n",
       " ('davila', 0.6366347074508667),\n",
       " ('amoedo', 0.633353590965271),\n",
       " ('doria', 0.6229133605957031),\n",
       " ('marina', 0.6208099126815796)]"
      ]
     },
     "execution_count": 84,
     "metadata": {},
     "output_type": "execute_result"
    }
   ],
   "source": [
    "model.most_similar('manuela')"
   ]
  },
  {
   "cell_type": "code",
   "execution_count": 85,
   "metadata": {},
   "outputs": [
    {
     "name": "stderr",
     "output_type": "stream",
     "text": [
      "C:\\Users\\raula\\Anaconda3\\lib\\site-packages\\ipykernel_launcher.py:1: DeprecationWarning: Call to deprecated `most_similar` (Method will be removed in 4.0.0, use self.wv.most_similar() instead).\n",
      "  \"\"\"Entry point for launching an IPython kernel.\n"
     ]
    },
    {
     "data": {
      "text/plain": [
       "[('psdb', 0.5686669945716858),\n",
       " ('senado', 0.5534663200378418),\n",
       " ('fhc', 0.552035927772522),\n",
       " ('pt', 0.5514092445373535),\n",
       " ('lula', 0.5505332946777344),\n",
       " ('alckmin', 0.548015296459198),\n",
       " ('trump', 0.5426720380783081),\n",
       " ('serra', 0.5397273302078247),\n",
       " ('geraldo', 0.5376938581466675),\n",
       " ('neves', 0.5183644890785217)]"
      ]
     },
     "execution_count": 85,
     "metadata": {},
     "output_type": "execute_result"
    }
   ],
   "source": [
    "model.most_similar('temer')"
   ]
  },
  {
   "cell_type": "code",
   "execution_count": 86,
   "metadata": {},
   "outputs": [
    {
     "name": "stderr",
     "output_type": "stream",
     "text": [
      "C:\\Users\\raula\\Anaconda3\\lib\\site-packages\\ipykernel_launcher.py:1: DeprecationWarning: Call to deprecated `most_similar` (Method will be removed in 4.0.0, use self.wv.most_similar() instead).\n",
      "  \"\"\"Entry point for launching an IPython kernel.\n"
     ]
    },
    {
     "data": {
      "text/plain": [
       "[('arthur', 0.6565069556236267),\n",
       " ('bolsonaro', 0.6129334568977356),\n",
       " ('rapaz', 0.5918129086494446),\n",
       " ('trump', 0.5887680053710938),\n",
       " ('senhor', 0.5734490156173706),\n",
       " ('coroné', 0.5734205842018127),\n",
       " ('cara', 0.5671334862709045),\n",
       " ('lula', 0.5579526424407959),\n",
       " ('youtuber', 0.5546096563339233),\n",
       " ('sujeito', 0.5466962456703186)]"
      ]
     },
     "execution_count": 86,
     "metadata": {},
     "output_type": "execute_result"
    }
   ],
   "source": [
    "model.most_similar('ciro')"
   ]
  },
  {
   "cell_type": "markdown",
   "metadata": {},
   "source": [
    "#### Semantics regulaties"
   ]
  },
  {
   "cell_type": "code",
   "execution_count": 87,
   "metadata": {},
   "outputs": [
    {
     "name": "stderr",
     "output_type": "stream",
     "text": [
      "C:\\Users\\raula\\Anaconda3\\lib\\site-packages\\ipykernel_launcher.py:2: DeprecationWarning: Call to deprecated `most_similar` (Method will be removed in 4.0.0, use self.wv.most_similar() instead).\n",
      "  \n"
     ]
    },
    {
     "data": {
      "text/plain": [
       "[('petista', 0.5897294282913208),\n",
       " ('bolsonaro', 0.5586472153663635),\n",
       " ('molusco', 0.5556932687759399),\n",
       " ('ele', 0.5486916899681091),\n",
       " ('trump', 0.5433017015457153),\n",
       " ('bandido', 0.5372085571289062),\n",
       " ('corrupto', 0.536354124546051),\n",
       " ('outro', 0.5241113901138306),\n",
       " ('alckmin', 0.5196800231933594),\n",
       " ('luladrão', 0.5195620059967041)]"
      ]
     },
     "execution_count": 87,
     "metadata": {},
     "output_type": "execute_result"
    }
   ],
   "source": [
    "# Esquerda está para Lula assim como direita está para...\n",
    "model.most_similar(positive=['lula', 'direita'], negative=['esquerda'])"
   ]
  },
  {
   "cell_type": "code",
   "execution_count": 88,
   "metadata": {},
   "outputs": [
    {
     "name": "stderr",
     "output_type": "stream",
     "text": [
      "C:\\Users\\raula\\Anaconda3\\lib\\site-packages\\ipykernel_launcher.py:2: DeprecationWarning: Call to deprecated `most_similar` (Method will be removed in 4.0.0, use self.wv.most_similar() instead).\n",
      "  \n"
     ]
    },
    {
     "data": {
      "text/plain": [
       "[('psdb', 0.5631870627403259),\n",
       " ('pmdb', 0.545505166053772),\n",
       " ('psol', 0.5343799591064453),\n",
       " ('amoedo', 0.5104071497917175),\n",
       " ('mdb', 0.5019980669021606),\n",
       " ('boulos', 0.486980140209198),\n",
       " ('pdt', 0.4843161106109619),\n",
       " ('dória', 0.47846806049346924),\n",
       " ('governo', 0.47634315490722656),\n",
       " ('partido', 0.46930065751075745)]"
      ]
     },
     "execution_count": 88,
     "metadata": {},
     "output_type": "execute_result"
    }
   ],
   "source": [
    "# Lula está para PT assim como Alckmin está para...\n",
    "model.most_similar(positive=['pt', 'alckmin'], negative=['lula'])"
   ]
  },
  {
   "cell_type": "code",
   "execution_count": 89,
   "metadata": {
    "scrolled": true
   },
   "outputs": [
    {
     "name": "stderr",
     "output_type": "stream",
     "text": [
      "C:\\Users\\raula\\Anaconda3\\lib\\site-packages\\ipykernel_launcher.py:2: DeprecationWarning: Call to deprecated `most_similar` (Method will be removed in 4.0.0, use self.wv.most_similar() instead).\n",
      "  \n"
     ]
    },
    {
     "data": {
      "text/plain": [
       "[('ela', 0.595608115196228),\n",
       " ('tu', 0.5274435877799988),\n",
       " ('pessoa', 0.5209347009658813),\n",
       " ('vc', 0.5169470310211182),\n",
       " ('você', 0.5042309761047363),\n",
       " ('manuela', 0.49963468313217163),\n",
       " ('voce', 0.4887855350971222),\n",
       " ('manu', 0.48255905508995056),\n",
       " ('senhora', 0.4718356430530548),\n",
       " ('alguém', 0.4707336723804474)]"
      ]
     },
     "execution_count": 89,
     "metadata": {},
     "output_type": "execute_result"
    }
   ],
   "source": [
    "#Lula está para 'ele' assim como Marina está para...\n",
    "model.most_similar(positive=['ele', 'marina'], negative=['lula'])"
   ]
  },
  {
   "cell_type": "code",
   "execution_count": 95,
   "metadata": {},
   "outputs": [
    {
     "name": "stderr",
     "output_type": "stream",
     "text": [
      "C:\\Users\\raula\\Anaconda3\\lib\\site-packages\\ipykernel_launcher.py:1: DeprecationWarning: Call to deprecated `most_similar` (Method will be removed in 4.0.0, use self.wv.most_similar() instead).\n",
      "  \"\"\"Entry point for launching an IPython kernel.\n"
     ]
    },
    {
     "data": {
      "text/plain": [
       "[('lula', 0.5904990434646606),\n",
       " ('pt', 0.574676513671875),\n",
       " ('ciro', 0.5745781660079956),\n",
       " ('petista', 0.546591579914093),\n",
       " ('psdb', 0.5373578071594238),\n",
       " ('bolsolixo', 0.5339213013648987),\n",
       " ('gomes', 0.5172179937362671),\n",
       " ('ele', 0.5156170129776001),\n",
       " ('bolso', 0.5122733116149902),\n",
       " ('expresidente', 0.5089086294174194)]"
      ]
     },
     "execution_count": 95,
     "metadata": {},
     "output_type": "execute_result"
    }
   ],
   "source": [
    "model.most_similar(positive=['bolsonaro', 'esquerda'], negative=['direita'])"
   ]
  },
  {
   "cell_type": "code",
   "execution_count": 90,
   "metadata": {},
   "outputs": [],
   "source": [
    "def  plot_word_with_similars(model, word):\n",
    "    '''\n",
    "    Dados um modelo Word2Vec e uma palavras,\n",
    "    plota os vetores das palavras mais similares\n",
    "    à palavra dada como entrada.\n",
    "    '''\n",
    "    arr = np.empty((0,300), dtype='f')\n",
    "    word_labels = [word]\n",
    "\n",
    "    # get close words\n",
    "    close_words = model.similar_by_word(word)\n",
    "    \n",
    "    # add the vector for each of the closest words to the array\n",
    "    arr = np.append(arr, np.array([model[word]]), axis=0)\n",
    "    for wrd_score in close_words:\n",
    "        wrd_vector = model[wrd_score[0]]\n",
    "        word_labels.append(wrd_score[0])\n",
    "        arr = np.append(arr, np.array([wrd_vector]), axis=0)\n",
    "        \n",
    "    # find tsne coords for 2 dimensions\n",
    "    tsne = TSNE(n_components=2, random_state=0)\n",
    "    np.set_printoptions(suppress=True)\n",
    "    Y = tsne.fit_transform(arr)\n",
    "\n",
    "    x_coords = Y[:, 0]\n",
    "    y_coords = Y[:, 1]\n",
    "    # display scatter plot\n",
    "    plt.scatter(x_coords, y_coords)\n",
    "\n",
    "    for label, x, y in zip(word_labels, x_coords, y_coords):\n",
    "        plt.annotate(label, xy=(x, y), xytext=(0, 0), textcoords='offset points')\n",
    "    plt.xlim(x_coords.min()+0.00005, x_coords.max()+0.00005)\n",
    "    plt.ylim(y_coords.min()+0.00005, y_coords.max()+0.00005)\n",
    "    plt.show()"
   ]
  },
  {
   "cell_type": "code",
   "execution_count": 91,
   "metadata": {},
   "outputs": [],
   "source": [
    "def plot_vord_vectors(model, words):\n",
    "    '''\n",
    "    Dado um modelo Word2Vec e uma lista de palavras,\n",
    "    plota os vetores das palavras dadas como entrada.\n",
    "    '''\n",
    "    arr = np.empty((0, 300), dtype='f')\n",
    "    for name in words:\n",
    "        arr = np.append(arr, np.array([model[name]]), axis=0)\n",
    "    tsne = TSNE(n_components=2, random_state=0)\n",
    "    np.set_printoptions(suppress=True)\n",
    "    Y = tsne.fit_transform(arr)\n",
    "\n",
    "    x_coords = Y[:, 0]\n",
    "    y_coords = Y[:, 1]\n",
    "    # display scatter plot\n",
    "    plt.scatter(x_coords, y_coords)\n",
    "\n",
    "    for label, x, y in zip(words, x_coords, y_coords):\n",
    "        plt.annotate(label, xy=(x, y), xytext=(0, 0), textcoords='offset points')\n",
    "    plt.xlim(x_coords.min()+0.00005, x_coords.max()+0.00005)\n",
    "    plt.ylim(y_coords.min()+0.00005, y_coords.max()+0.00005)\n",
    "    plt.show()"
   ]
  },
  {
   "cell_type": "code",
   "execution_count": 92,
   "metadata": {},
   "outputs": [
    {
     "name": "stderr",
     "output_type": "stream",
     "text": [
      "C:\\Users\\raula\\Anaconda3\\lib\\site-packages\\ipykernel_launcher.py:5: DeprecationWarning: Call to deprecated `__getitem__` (Method will be removed in 4.0.0, use self.wv.__getitem__() instead).\n",
      "  \"\"\"\n"
     ]
    },
    {
     "data": {
      "image/png": "[encoded data removed]",
      "text/plain": [
       "<matplotlib.figure.Figure at 0x2ebd11b12e8>"
      ]
     },
     "metadata": {},
     "output_type": "display_data"
    }
   ],
   "source": [
    "plot_candidate_names_vectors(model)"
   ]
  },
  {
   "cell_type": "code",
   "execution_count": 93,
   "metadata": {},
   "outputs": [
    {
     "name": "stderr",
     "output_type": "stream",
     "text": [
      "C:\\Users\\raula\\Anaconda3\\lib\\site-packages\\ipykernel_launcher.py:6: DeprecationWarning: Call to deprecated `similar_by_word` (Method will be removed in 4.0.0, use self.wv.similar_by_word() instead).\n",
      "  \n",
      "C:\\Users\\raula\\Anaconda3\\lib\\site-packages\\ipykernel_launcher.py:9: DeprecationWarning: Call to deprecated `__getitem__` (Method will be removed in 4.0.0, use self.wv.__getitem__() instead).\n",
      "  if __name__ == '__main__':\n",
      "C:\\Users\\raula\\Anaconda3\\lib\\site-packages\\ipykernel_launcher.py:11: DeprecationWarning: Call to deprecated `__getitem__` (Method will be removed in 4.0.0, use self.wv.__getitem__() instead).\n",
      "  # This is added back by InteractiveShellApp.init_path()\n"
     ]
    },
    {
     "data": {
      "image/png": "[encoded data removed]",
      "text/plain": [
       "<matplotlib.figure.Figure at 0x2ebd1db3470>"
      ]
     },
     "metadata": {},
     "output_type": "display_data"
    }
   ],
   "source": [
    "plot_with_similars(model, 'ladrão')"
   ]
  },
  {
   "cell_type": "code",
   "execution_count": 94,
   "metadata": {},
   "outputs": [
    {
     "name": "stderr",
     "output_type": "stream",
     "text": [
      "C:\\Users\\raula\\Anaconda3\\lib\\site-packages\\ipykernel_launcher.py:8: DeprecationWarning: Call to deprecated `__getitem__` (Method will be removed in 4.0.0, use self.wv.__getitem__() instead).\n",
      "  \n"
     ]
    },
    {
     "data": {
      "image/png": "[encoded data removed]",
      "text/plain": [
       "<matplotlib.figure.Figure at 0x2ebd4602d68>"
      ]
     },
     "metadata": {},
     "output_type": "display_data"
    }
   ],
   "source": [
    "candidate_names = ['lula', 'temer', 'bolsonaro', 'alckmin', 'marina', 'manuela', 'boulos', 'ciro', 'álvaro']\n",
    "plot_vord_vectors(model, candidate_names)"
   ]
  },
  {
   "cell_type": "code",
   "execution_count": null,
   "metadata": {},
   "outputs": [],
   "source": []
  }
 ],
 "metadata": {
  "kernelspec": {
   "display_name": "Python 3",
   "language": "python",
   "name": "python3"
  },
  "language_info": {
   "codemirror_mode": {
    "name": "ipython",
    "version": 3
   },
   "file_extension": ".py",
   "mimetype": "text/x-python",
   "name": "python",
   "nbconvert_exporter": "python",
   "pygments_lexer": "ipython3",
   "version": "3.6.4"
  }
 },
 "nbformat": 4,
 "nbformat_minor": 2
}
